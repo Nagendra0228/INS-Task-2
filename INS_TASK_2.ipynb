{
  "nbformat": 4,
  "nbformat_minor": 0,
  "metadata": {
    "colab": {
      "provenance": [],
      "authorship_tag": "ABX9TyN84wxlWnWMDNAkyZF69jIy",
      "include_colab_link": true
    },
    "kernelspec": {
      "name": "python3",
      "display_name": "Python 3"
    },
    "language_info": {
      "name": "python"
    }
  },
  "cells": [
    {
      "cell_type": "markdown",
      "metadata": {
        "id": "view-in-github",
        "colab_type": "text"
      },
      "source": [
        "<a href=\"https://colab.research.google.com/github/Nagendra0228/INS-Task-2/blob/main/INS_TASK_2.ipynb\" target=\"_parent\"><img src=\"https://colab.research.google.com/assets/colab-badge.svg\" alt=\"Open In Colab\"/></a>"
      ]
    },
    {
      "cell_type": "markdown",
      "source": [
        "# **🔹 Step 1: Install Required Libraries**"
      ],
      "metadata": {
        "id": "LCPpaevXAjr5"
      }
    },
    {
      "cell_type": "code",
      "source": [
        "!pip install --upgrade cryptography\n"
      ],
      "metadata": {
        "colab": {
          "base_uri": "https://localhost:8080/"
        },
        "id": "v1rVFoiS_Gpi",
        "outputId": "243a9b6a-1cc9-4d6b-e73c-ab64680e88e9"
      },
      "execution_count": null,
      "outputs": [
        {
          "output_type": "stream",
          "name": "stdout",
          "text": [
            "Requirement already satisfied: cryptography in /usr/local/lib/python3.11/dist-packages (43.0.3)\n",
            "Collecting cryptography\n",
            "  Downloading cryptography-44.0.2-cp39-abi3-manylinux_2_34_x86_64.whl.metadata (5.7 kB)\n",
            "Requirement already satisfied: cffi>=1.12 in /usr/local/lib/python3.11/dist-packages (from cryptography) (1.17.1)\n",
            "Requirement already satisfied: pycparser in /usr/local/lib/python3.11/dist-packages (from cffi>=1.12->cryptography) (2.22)\n",
            "Downloading cryptography-44.0.2-cp39-abi3-manylinux_2_34_x86_64.whl (4.2 MB)\n",
            "\u001b[2K   \u001b[90m━━━━━━━━━━━━━━━━━━━━━━━━━━━━━━━━━━━━━━━━\u001b[0m \u001b[32m4.2/4.2 MB\u001b[0m \u001b[31m46.2 MB/s\u001b[0m eta \u001b[36m0:00:00\u001b[0m\n",
            "\u001b[?25hInstalling collected packages: cryptography\n",
            "  Attempting uninstall: cryptography\n",
            "    Found existing installation: cryptography 43.0.3\n",
            "    Uninstalling cryptography-43.0.3:\n",
            "      Successfully uninstalled cryptography-43.0.3\n",
            "\u001b[31mERROR: pip's dependency resolver does not currently take into account all the packages that are installed. This behaviour is the source of the following dependency conflicts.\n",
            "pyopenssl 24.2.1 requires cryptography<44,>=41.0.5, but you have cryptography 44.0.2 which is incompatible.\n",
            "pydrive2 1.21.3 requires cryptography<44, but you have cryptography 44.0.2 which is incompatible.\u001b[0m\u001b[31m\n",
            "\u001b[0mSuccessfully installed cryptography-44.0.2\n"
          ]
        }
      ]
    },
    {
      "cell_type": "markdown",
      "source": [
        "# **🔹 Step 2: Generate and Store Keys (RSA & AES)**"
      ],
      "metadata": {
        "id": "282tkGEaAg4_"
      }
    },
    {
      "cell_type": "code",
      "source": [
        "import os\n",
        "from cryptography.hazmat.primitives.asymmetric import rsa, dh\n",
        "from cryptography.hazmat.primitives import serialization\n",
        "from cryptography.hazmat.primitives.ciphers import Cipher, algorithms, modes\n",
        "from cryptography.hazmat.backends import default_backend\n",
        "\n",
        "# Function to generate RSA Key Pair\n",
        "def generate_rsa_keys():\n",
        "    private_key = rsa.generate_private_key(public_exponent=65537, key_size=2048)\n",
        "    public_key = private_key.public_key()\n",
        "\n",
        "    # Save Private Key\n",
        "    with open(\"/content/private_key.pem\", \"wb\") as f:\n",
        "        f.write(private_key.private_bytes(\n",
        "            encoding=serialization.Encoding.PEM,\n",
        "            format=serialization.PrivateFormat.PKCS8,\n",
        "            encryption_algorithm=serialization.NoEncryption()\n",
        "        ))\n",
        "\n",
        "    # Save Public Key\n",
        "    with open(\"/content/public_key.pem\", \"wb\") as f:\n",
        "        f.write(public_key.public_bytes(\n",
        "            encoding=serialization.Encoding.PEM,\n",
        "            format=serialization.PublicFormat.SubjectPublicKeyInfo\n",
        "        ))\n",
        "\n",
        "    return private_key, public_key\n",
        "\n",
        "# Function to generate AES Key\n",
        "def generate_aes_key():\n",
        "    aes_key = os.urandom(32)  # 256-bit AES key\n",
        "    with open(\"/content/aes_key.bin\", \"wb\") as f:\n",
        "        f.write(aes_key)\n",
        "    return aes_key\n",
        "\n",
        "# Generate RSA and AES Keys\n",
        "private_key, public_key = generate_rsa_keys()\n",
        "aes_key = generate_aes_key()\n",
        "print(\"✅ RSA & AES keys generated and stored in /content/\")\n"
      ],
      "metadata": {
        "colab": {
          "base_uri": "https://localhost:8080/"
        },
        "id": "a6LJeahC_HBQ",
        "outputId": "619ac9e2-c36c-4873-fdc3-36cc3e53c13a"
      },
      "execution_count": null,
      "outputs": [
        {
          "output_type": "stream",
          "name": "stdout",
          "text": [
            "✅ RSA & AES keys generated and stored in /content/\n"
          ]
        }
      ]
    },
    {
      "cell_type": "markdown",
      "source": [
        "# **🔹 Step 3: Secure Key Exchange using Diffie-Hellman**"
      ],
      "metadata": {
        "id": "J-tHf_DpAerx"
      }
    },
    {
      "cell_type": "code",
      "source": [
        "# Generate Diffie-Hellman Parameters and Private Keys\n",
        "parameters = dh.generate_parameters(generator=2, key_size=2048)\n",
        "private_key_A = parameters.generate_private_key()\n",
        "private_key_B = parameters.generate_private_key()\n",
        "\n",
        "# Generate Public Keys\n",
        "public_key_A = private_key_A.public_key()\n",
        "public_key_B = private_key_B.public_key()\n",
        "\n",
        "# Compute Shared Secret\n",
        "shared_secret_A = private_key_A.exchange(public_key_B)\n",
        "shared_secret_B = private_key_B.exchange(public_key_A)\n",
        "\n",
        "assert shared_secret_A == shared_secret_B  # Verify they are the same\n",
        "print(\"✅ Secure Diffie-Hellman Key Exchange Successful!\")\n"
      ],
      "metadata": {
        "colab": {
          "base_uri": "https://localhost:8080/"
        },
        "id": "ndRdYYhV_JN3",
        "outputId": "cb4b9a3d-c00e-4099-fbef-83ca01272cd4"
      },
      "execution_count": null,
      "outputs": [
        {
          "output_type": "stream",
          "name": "stdout",
          "text": [
            "✅ Secure Diffie-Hellman Key Exchange Successful!\n"
          ]
        }
      ]
    },
    {
      "cell_type": "markdown",
      "source": [
        "# **🔹 Step 4: Implement Key Revocation System**"
      ],
      "metadata": {
        "id": "FujplhJIAZXs"
      }
    },
    {
      "cell_type": "code",
      "source": [
        "revoked_keys = set()\n",
        "\n",
        "# Function to revoke a key\n",
        "def revoke_key(key_id):\n",
        "    revoked_keys.add(key_id)\n",
        "    print(f\"🚨 Key {key_id} has been revoked.\")\n",
        "\n",
        "# Function to check if a key is revoked\n",
        "def is_key_revoked(key_id):\n",
        "    return key_id in revoked_keys\n",
        "\n",
        "# Example: Revoking a key\n",
        "revoke_key(\"key-123\")\n",
        "print(\"Is key revoked? \", is_key_revoked(\"key-123\"))  # Output: True\n"
      ],
      "metadata": {
        "colab": {
          "base_uri": "https://localhost:8080/"
        },
        "id": "0sE2lSUq_pKf",
        "outputId": "4e891f12-8c54-4430-c87c-ac0d676c441c"
      },
      "execution_count": null,
      "outputs": [
        {
          "output_type": "stream",
          "name": "stdout",
          "text": [
            "🚨 Key key-123 has been revoked.\n",
            "Is key revoked?  True\n"
          ]
        }
      ]
    },
    {
      "cell_type": "markdown",
      "source": [
        "# **🔹 Step 5: Encryption & Decryption (AES)**"
      ],
      "metadata": {
        "id": "18XNYlHXAS3Z"
      }
    },
    {
      "cell_type": "code",
      "source": [
        "# Encrypt Data with AES\n",
        "def encrypt_data_aes(data, aes_key):\n",
        "    iv = os.urandom(16)  # 128-bit IV\n",
        "    cipher = Cipher(algorithms.AES(aes_key), modes.CBC(iv), backend=default_backend())\n",
        "    encryptor = cipher.encryptor()\n",
        "    padded_data = data.ljust((len(data) // 16 + 1) * 16).encode()  # Padding\n",
        "    encrypted_data = encryptor.update(padded_data) + encryptor.finalize()\n",
        "    return iv + encrypted_data\n",
        "\n",
        "# Decrypt Data with AES\n",
        "def decrypt_data_aes(encrypted_data, aes_key):\n",
        "    iv, encrypted_content = encrypted_data[:16], encrypted_data[16:]\n",
        "    cipher = Cipher(algorithms.AES(aes_key), modes.CBC(iv), backend=default_backend())\n",
        "    decryptor = cipher.decryptor()\n",
        "    decrypted_data = decryptor.update(encrypted_content) + decryptor.finalize()\n",
        "    return decrypted_data.strip().decode()\n",
        "\n",
        "# Test Encryption & Decryption\n",
        "message = \"Confidential Data\"\n",
        "encrypted_msg = encrypt_data_aes(message, aes_key)\n",
        "print(\"🔒 Encrypted:\", encrypted_msg)\n",
        "\n",
        "decrypted_msg = decrypt_data_aes(encrypted_msg, aes_key)\n",
        "print(\"🔓 Decrypted:\", decrypted_msg)\n"
      ],
      "metadata": {
        "colab": {
          "base_uri": "https://localhost:8080/"
        },
        "id": "EvmeO3yt_rax",
        "outputId": "f28bad53-5db0-4e21-9ebf-bc0cdb7c04d2"
      },
      "execution_count": null,
      "outputs": [
        {
          "output_type": "stream",
          "name": "stdout",
          "text": [
            "🔒 Encrypted: b'\\xa9\\x1e\\xae0H%IaH\\x84\\xb9\\xf3/ff\\xe5\\xfe\\x94\\xff\\xa7H<D\\xd2:\\xed\\x0biY\\xcb\\xb6\\xe3\\xae\\x9ee[\\x1dS\\xa2\"\\xf7\\x08\\xba\\xf6\\xd9\\xf2\\xa11'\n",
            "🔓 Decrypted: Confidential Data\n"
          ]
        }
      ]
    },
    {
      "cell_type": "code",
      "source": [],
      "metadata": {
        "id": "sURihbNs_wtg"
      },
      "execution_count": null,
      "outputs": []
    }
  ]
}